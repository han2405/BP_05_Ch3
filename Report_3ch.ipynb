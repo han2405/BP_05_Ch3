{
  "nbformat": 4,
  "nbformat_minor": 0,
  "metadata": {
    "colab": {
      "provenance": [],
      "authorship_tag": "ABX9TyOOfSmmUrUsqbS/Ym/72crA",
      "include_colab_link": true
    },
    "kernelspec": {
      "name": "python3",
      "display_name": "Python 3"
    },
    "language_info": {
      "name": "python"
    }
  },
  "cells": [
    {
      "cell_type": "markdown",
      "metadata": {
        "id": "view-in-github",
        "colab_type": "text"
      },
      "source": [
        "<a href=\"https://colab.research.google.com/github/han2405/BP_05_Ch3/blob/main/Report_3ch.ipynb\" target=\"_parent\"><img src=\"https://colab.research.google.com/assets/colab-badge.svg\" alt=\"Open In Colab\"/></a>"
      ]
    },
    {
      "cell_type": "markdown",
      "source": [
        "<pre>\n",
        "1번 문제 \n",
        " 사용자로부터 두 개의 정수를 받아서 정수의 합, 정수의 차, 정수의 곱, \n",
        "정수의 평균, 큰 수, 작은 수를 게산하여 화면에 출력하는 프로그램을 작성하라. \n",
        "파이썬이 제공하는 내장 함수 max(x,y), min(x,y)을 사용해보자."
      ],
      "metadata": {
        "id": "YFOvdRyQbYmN"
      }
    },
    {
      "cell_type": "code",
      "execution_count": 3,
      "metadata": {
        "colab": {
          "base_uri": "https://localhost:8080/"
        },
        "id": "yNSeDNucbCLO",
        "outputId": "e7c0684c-8025-41e0-e246-6eab9aa5dbde"
      },
      "outputs": [
        {
          "output_type": "stream",
          "name": "stdout",
          "text": [
            "x의 값은? :10\n",
            "y의 값은? :20\n",
            "두수의 합은: 30\n",
            "두수의 차는 : -10\n",
            "두수의 곱은 : 200\n",
            "두수의 평균은 : 15.0\n",
            "큰 수는:  20\n",
            "작은 수는: 10\n"
          ]
        }
      ],
      "source": [
        "x=int(input(\"x의 값은? :\"))\n",
        "y=int(input(\"y의 값은? :\"))\n",
        "\n",
        "print(\"두수의 합은:\", x+y )\n",
        "print(\"두수의 차는 :\", x-y )\n",
        "print(\"두수의 곱은 :\", x*y )\n",
        "print(\"두수의 평균은 :\", (x+y)/2 )\n",
        "print(\"큰 수는: \", max(x,y)) #max(x, y)와 같이 호출하면 x와 y증에서 큰 수가 반환된다.\n",
        "print(\"작은 수는:\", min(x,y)) #min() 의 경우에는 작은 수가 반환"
      ]
    },
    {
      "cell_type": "markdown",
      "source": [
        "<pre>\n",
        "2번 문제 \n",
        " 원기둥의 부피를 게산하는 프로그램을 작성해보자. \n",
        "원기둥의 부피는 다음과 같이 게산한다."
      ],
      "metadata": {
        "id": "Arw9XVQ5cEOi"
      }
    },
    {
      "cell_type": "code",
      "source": [
        "r=float(input(\"r 값은? :\")) #실수형 float\n",
        "h=float(input(\"h 값은? :\"))\n",
        "\n",
        "vol=3.14159265358979*r**2*h #원기둥의 부피는 파이*반지름의 제곱*높이\n",
        "print(\"원기둥의 부피는\", vol)"
      ],
      "metadata": {
        "colab": {
          "base_uri": "https://localhost:8080/"
        },
        "id": "ORKpi-hzcECI",
        "outputId": "0386295c-6149-4e84-9337-508e5f0c762b"
      },
      "execution_count": 4,
      "outputs": [
        {
          "output_type": "stream",
          "name": "stdout",
          "text": [
            "r 값은? :10\n",
            "h 값은? :100\n",
            "원기둥의 부피는 31415.9265358979\n"
          ]
        }
      ]
    },
    {
      "cell_type": "markdown",
      "source": [
        "<pre>\n",
        "3번 문제 \n",
        "사용자로부터 정수를 받아서 정수의 자리수의 합을 게산하는 프로그램을 작성하여 보자.\n",
        "에를 들어서 사용자가 1234를 입력하였다면 1+2+3+4를 게산하면 된다. \n",
        "나머지 연산자와 정수 나눗셈 연산자 //를 적극적으로 사용해보자.\n",
        "\n",
        "* 1의 자리수는 number % 10 으로 게산할 수 있다.\n",
        "10의 자리수는 number=number//10 한 훙[ 동일한 처리를 되풀이 한다. 단 반복문은 사용하지 않는다."
      ],
      "metadata": {
        "id": "vMdxXZ3edL_3"
      }
    },
    {
      "cell_type": "code",
      "source": [
        "number=int(input(\"정수를 입력하시오: \"))\n",
        "\n",
        "sum=0 #초기화는 중요\n",
        "\n",
        "sum=sum+number%10\n",
        "number=number//10 #나머지\n",
        "\n",
        "sum=sum+number%10\n",
        "number=number//10\n",
        "\n",
        "sum=sum+number%10\n",
        "number=number//10\n",
        "\n",
        "sum=sum+number%10\n",
        "number=number//10\n",
        "\n",
        "print(\"자리 수의 합은\", str(sum))"
      ],
      "metadata": {
        "colab": {
          "base_uri": "https://localhost:8080/"
        },
        "id": "3RLRCc1edMZg",
        "outputId": "be159ccb-8264-4b8d-cfb8-5a19c2bda603"
      },
      "execution_count": 5,
      "outputs": [
        {
          "output_type": "stream",
          "name": "stdout",
          "text": [
            "정수를 입력하시오: 1234\n",
            "자리 수의 합은 10\n"
          ]
        }
      ]
    },
    {
      "cell_type": "markdown",
      "source": [
        "<pre>\n",
        "4번 문제 \n",
        " 두 점의 좌표 (x1, y1) 과 (x2, y2)를 입력받아서 \n",
        "두 점 사이의 거리를 계산하는 프로그램을 작성해보자.\n",
        "스크립트 모드로 작성하라. 거리는 다음 식으로 계산한다."
      ],
      "metadata": {
        "id": "EPivXaeJdqxp"
      }
    },
    {
      "cell_type": "code",
      "source": [
        "x1=int(input(\"x1 값을 입력하시오. :\"))\n",
        "y1=int(input(\"y1 값을 입력하시오. :\"))\n",
        "\n",
        "x2=int(input(\"x2 값을 입력하시오. :\"))\n",
        "y2=int(input(\"y2 값을 입력하시오. :\"))\n",
        "\n",
        "dist=((x1-x2)**2+(y1-y2)**2)**0.5 #제곱근을 게산하려면 0.5승을 하면 된다.\n",
        "print(\"두 점의 사이의 거리는\", dist, \"입니다.\")"
      ],
      "metadata": {
        "colab": {
          "base_uri": "https://localhost:8080/"
        },
        "id": "dOHeW0wRdq5R",
        "outputId": "0f11d239-f580-416c-a371-b4d2446c3201"
      },
      "execution_count": 6,
      "outputs": [
        {
          "output_type": "stream",
          "name": "stdout",
          "text": [
            "x1 값을 입력하시오. :0\n",
            "y1 값을 입력하시오. :0\n",
            "x2 값을 입력하시오. :100\n",
            "y2 값을 입력하시오. :100\n",
            "두 점의 사이의 거리는 141.4213562373095 입니다.\n"
          ]
        }
      ]
    },
    {
      "cell_type": "markdown",
      "source": [
        "<pre>\n",
        "5번 문제\n",
        " 4번 문제에서 계산한 거리가 맞는지, 터틀 그래픽으로 확인해보자. \n",
        "거북이를 왼쪽으로 45도 회전하여 141만큼 전진시킨다. \n",
        "다시 거북이를 (0,0)으로 이동하고 0도를 가리키게 한 수에 100만큼 전진하고 왼쪽으로 90도 회전하여 100만큼 전진한다. \n",
        "화면에 그려진 직선이 일치하는가?\n",
        "\n",
        "* 거북이의 방향을 설정하려면 setheading()을 사용하는 것이 좋다."
      ],
      "metadata": {
        "id": "e-HGaJ-qeH1b"
      }
    },
    {
      "cell_type": "code",
      "source": [
        "import turtle\n",
        "t=turtle.Turtle()\n",
        "t.shape(\"turtle\")\n",
        "t.left(45)\n",
        "t.fd(141)\n",
        "\n",
        "t.goto(0,0)\n",
        "t.setheading(0) #방향 설정\n",
        "t.fd(100)\n",
        "t.lt(90)\n",
        "t.fd(100)\n",
        "\n",
        "t.screen.exitionclik() #비주얼 스튜디오 코드라면 마지막에 추가"
      ],
      "metadata": {
        "id": "yL1bGuaAecsF"
      },
      "execution_count": null,
      "outputs": []
    },
    {
      "cell_type": "markdown",
      "source": [
        "<pre>\n",
        "6번 문제\n",
        "사용자로부터 두 점을 입력받아서 터틀 그래픽을 이용하여 두 점을 연결하는 직선을 그린다. 직선의 끝점에 직선의 길이를 계산하여 출력해보자."
      ],
      "metadata": {
        "id": "cIZlERwfegU0"
      }
    },
    {
      "cell_type": "code",
      "source": [
        "import turtle\n",
        "t = turtle.Turtle()\n",
        "t.shape(\"turtle\")\n",
        "\n",
        "x1 = int(input(\"x1: \"))\n",
        "x1: 0\n",
        "y1 = int(input(\"y1: \"))\n",
        "y1: 0\n",
        "x2 = int(input(\"x2: \"))\n",
        "x2: 100\n",
        "y2 = int(input(\"y2: \"))\n",
        "y2: 100\n",
        "dist = ((x1 - x2) ** 2 + (y1 - y2) ** 2) ** 0.5\n",
        "\n",
        "t.up() #펜을 들어서 움직이는 동안 선이 그려지지 않음\n",
        "t.goto(x1, y1)\n",
        "t.down() \n",
        "t.goto(x2, y2)\n",
        "t.write(\"점의 길이=\"+str(dist)) #문자형이므로 쉼표말고 + 사용하기.\n",
        "t._screen.exitonclick()   # 비주얼 스튜디오 코드의 경우(화면을 마우스로 클릭해야 종료되게 하는 부분)"
      ],
      "metadata": {
        "id": "TbBWrB_QlaDX"
      },
      "execution_count": null,
      "outputs": []
    },
    {
      "cell_type": "markdown",
      "source": [
        "<pre>\n",
        "7번 문제\n",
        " 파이썬에서 time()을 호출하면 1970년 1월 1일 이후 흘러온 전체 초가 반환된다.\n",
        " 이것을 적절하게 나누거나 나머지를 구해서 현재 시간의 시와 분을 계산할 수 있을까?\n",
        "\n",
        "* 전체 초를 60으로 나누어서 몫을 구하면 전체 분이 된다. \n",
        "이것을 60으로 나눈 나머지가 현재 분이 된다."
      ],
      "metadata": {
        "id": "kdYTd4bwlydx"
      }
    },
    {
      "cell_type": "code",
      "source": [
        "import time\n",
        "time.time()\n",
        "1667464695.5362294 #전체초\n",
        "\n",
        "fseconds = time.time()\n",
        "total_sec = int(fseconds) \n",
        "total_min = total_sec // 60 #전체 분\n",
        "minute = total_min % 60 #현재 분\n",
        "total_hour = total_min // 60 #전체 시\n",
        "hour = total_hour % 24 #현재 시\n",
        "print(\"현재 시간(영국 그리니치 시각): \" + str(hour) + \"시\"+ str(minute) + \"분\")\n",
        "현재 시간(영국 그리니치 시각): 8시39분"
      ],
      "metadata": {
        "id": "jTqfXdzgly3X"
      },
      "execution_count": null,
      "outputs": []
    },
    {
      "cell_type": "markdown",
      "source": [
        "<pre>\n",
        "8번 문제\n",
        " 움직이는 물체의 운동에너지를 계산해보자. \n",
        "물체의 에너지를 계산하는 식은 1/2*무게*속도제곱이다.\n"
      ],
      "metadata": {
        "id": "gR7VoC_Sp5aZ"
      }
    },
    {
      "cell_type": "code",
      "source": [
        "mass = float(input(\"물체의 무게를 입력하시오.(킬로그램): \"))\n",
        "velocity = float(input(\"물체의 속도를 입력하시오.(미터/초): \"))\n",
        " \n",
        "energy = 0.5 * mass * velocity **2 #** 거듭제곱 지수 연산자\n",
        "print(\"물체는  \" + str(energy) + \" (줄)의 에너지를 가지고 있다.\")"
      ],
      "metadata": {
        "colab": {
          "base_uri": "https://localhost:8080/"
        },
        "id": "-sCvse9qp536",
        "outputId": "6824f830-702f-49ad-bfe0-10c5510567b5"
      },
      "execution_count": 9,
      "outputs": [
        {
          "output_type": "stream",
          "name": "stdout",
          "text": [
            "물체의 무게를 입력하시오.(킬로그램): 10\n",
            "물체의 속도를 입력하시오.(미터/초): 100\n",
            "물체는  50000.0 (줄)의 에너지를 가지고 있다.\n"
          ]
        }
      ]
    }
  ]
}